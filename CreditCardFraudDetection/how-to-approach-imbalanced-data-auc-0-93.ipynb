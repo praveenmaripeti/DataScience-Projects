{
 "cells": [
  {
   "cell_type": "markdown",
   "metadata": {
    "papermill": {
     "duration": 0.031201,
     "end_time": "2020-10-14T14:38:36.856270",
     "exception": false,
     "start_time": "2020-10-14T14:38:36.825069",
     "status": "completed"
    },
    "tags": []
   },
   "source": [
    "# Credit Card Fraud Detection \n",
    "\n",
    "In this challenge, we are required to build a model that predicts fraudulent credit card transactions. It is important that credit card companies are able to recognize fraudulent credit card transactions so that customers are not charged for items that they did not purchase.\n",
    "\n",
    "The dataset contains transactions made by credit cards in September 2013 by european cardholders.This dataset presents transactions that occurred in two days, where there are 492 frauds out of 284,807 transactions. The dataset is severely imbalanced, the positive cases (frauds) account for 0.172% of all transactions.\n",
    "\n",
    "The data contains only numerical input variables which are the result of a PCA transformation. Due to confidentiality reasons, the original features have been anonymized to get new features V1, V2, … V28 which are the principal components obtained with PCA post scaling, the only features which have not been transformed with PCA are 'Time' and 'Amount'. Feature 'Time' contains the seconds elapsed between each transaction and the first transaction in the dataset. The feature 'Amount' is the transaction Amount. Feature 'Class' is the response variable and it takes value 1 in case of fraud and 0 otherwise."
   ]
  },
  {
   "cell_type": "markdown",
   "metadata": {
    "papermill": {
     "duration": 0.030599,
     "end_time": "2020-10-14T14:38:36.915864",
     "exception": false,
     "start_time": "2020-10-14T14:38:36.885265",
     "status": "completed"
    },
    "tags": []
   },
   "source": [
    "# My Approach \n",
    "\n",
    "* Basic EDA\n",
    "* Class imbalance issue \n",
    "* Ways to address class imbalance\n",
    "* Regular approach with Logistic Regression \n",
    "* Regular approach with Random Forest Classifier\n",
    "* Undersampling\n",
    "* Model trained on undersampling data\n",
    "* Oversampling \n",
    "* Model trained on oversampling data\n",
    "* Undersampling + oversampling\n",
    "* Model trained on both undersample and oversample data\n",
    "* Final thoughts and Conclusion"
   ]
  },
  {
   "cell_type": "markdown",
   "metadata": {
    "papermill": {
     "duration": 0.028795,
     "end_time": "2020-10-14T14:38:36.972925",
     "exception": false,
     "start_time": "2020-10-14T14:38:36.944130",
     "status": "completed"
    },
    "tags": []
   },
   "source": [
    "# Import Libraries"
   ]
  },
  {
   "cell_type": "code",
   "execution_count": 1,
   "metadata": {
    "execution": {
     "iopub.execute_input": "2020-10-14T14:38:37.047501Z",
     "iopub.status.busy": "2020-10-14T14:38:37.046580Z",
     "iopub.status.idle": "2020-10-14T14:38:40.108631Z",
     "shell.execute_reply": "2020-10-14T14:38:40.107874Z"
    },
    "papermill": {
     "duration": 3.105916,
     "end_time": "2020-10-14T14:38:40.108809",
     "exception": false,
     "start_time": "2020-10-14T14:38:37.002893",
     "status": "completed"
    },
    "tags": []
   },
   "outputs": [],
   "source": [
    "import numpy as np\n",
    "import pandas as pd\n",
    "import matplotlib.pyplot as plt\n",
    "import seaborn as sns\n",
    "import plotly.express as px\n",
    "import plotly.graph_objects as go\n",
    "from plotly.subplots import make_subplots\n",
    "from sklearn.preprocessing import StandardScaler, RobustScaler\n",
    "from sklearn.linear_model import LogisticRegression\n",
    "from sklearn.ensemble import RandomForestClassifier\n",
    "import collections\n",
    "from collections import Counter\n",
    "import itertools\n",
    "from sklearn.model_selection import train_test_split, KFold, StratifiedKFold\n",
    "from imblearn.over_sampling import SMOTE, ADASYN\n",
    "from imblearn.under_sampling import NearMiss, RandomUnderSampler\n",
    "from imblearn.metrics import classification_report_imbalanced\n",
    "from sklearn.metrics import confusion_matrix, f1_score, precision_score, recall_score, roc_auc_score\n",
    "from sklearn.metrics import classification_report, accuracy_score, precision_recall_curve, roc_curve, auc\n",
    "import warnings\n",
    "warnings.filterwarnings('ignore')"
   ]
  },
  {
   "cell_type": "code",
   "execution_count": 2,
   "metadata": {
    "_cell_guid": "79c7e3d0-c299-4dcb-8224-4455121ee9b0",
    "_uuid": "d629ff2d2480ee46fbb7e2d37f6b5fab8052498a",
    "execution": {
     "iopub.execute_input": "2020-10-14T14:38:40.197913Z",
     "iopub.status.busy": "2020-10-14T14:38:40.196249Z",
     "iopub.status.idle": "2020-10-14T14:38:44.253640Z",
     "shell.execute_reply": "2020-10-14T14:38:44.254283Z"
    },
    "papermill": {
     "duration": 4.10462,
     "end_time": "2020-10-14T14:38:44.254449",
     "exception": false,
     "start_time": "2020-10-14T14:38:40.149829",
     "status": "completed"
    },
    "tags": []
   },
   "outputs": [
    {
     "data": {
      "text/html": [
       "<div>\n",
       "<style scoped>\n",
       "    .dataframe tbody tr th:only-of-type {\n",
       "        vertical-align: middle;\n",
       "    }\n",
       "\n",
       "    .dataframe tbody tr th {\n",
       "        vertical-align: top;\n",
       "    }\n",
       "\n",
       "    .dataframe thead th {\n",
       "        text-align: right;\n",
       "    }\n",
       "</style>\n",
       "<table border=\"1\" class=\"dataframe\">\n",
       "  <thead>\n",
       "    <tr style=\"text-align: right;\">\n",
       "      <th></th>\n",
       "      <th>Time</th>\n",
       "      <th>V1</th>\n",
       "      <th>V2</th>\n",
       "      <th>V3</th>\n",
       "      <th>V4</th>\n",
       "      <th>V5</th>\n",
       "      <th>V6</th>\n",
       "      <th>V7</th>\n",
       "      <th>V8</th>\n",
       "      <th>V9</th>\n",
       "      <th>...</th>\n",
       "      <th>V21</th>\n",
       "      <th>V22</th>\n",
       "      <th>V23</th>\n",
       "      <th>V24</th>\n",
       "      <th>V25</th>\n",
       "      <th>V26</th>\n",
       "      <th>V27</th>\n",
       "      <th>V28</th>\n",
       "      <th>Amount</th>\n",
       "      <th>Class</th>\n",
       "    </tr>\n",
       "  </thead>\n",
       "  <tbody>\n",
       "    <tr>\n",
       "      <th>0</th>\n",
       "      <td>0.0</td>\n",
       "      <td>-1.359807</td>\n",
       "      <td>-0.072781</td>\n",
       "      <td>2.536347</td>\n",
       "      <td>1.378155</td>\n",
       "      <td>-0.338321</td>\n",
       "      <td>0.462388</td>\n",
       "      <td>0.239599</td>\n",
       "      <td>0.098698</td>\n",
       "      <td>0.363787</td>\n",
       "      <td>...</td>\n",
       "      <td>-0.018307</td>\n",
       "      <td>0.277838</td>\n",
       "      <td>-0.110474</td>\n",
       "      <td>0.066928</td>\n",
       "      <td>0.128539</td>\n",
       "      <td>-0.189115</td>\n",
       "      <td>0.133558</td>\n",
       "      <td>-0.021053</td>\n",
       "      <td>149.62</td>\n",
       "      <td>0</td>\n",
       "    </tr>\n",
       "    <tr>\n",
       "      <th>1</th>\n",
       "      <td>0.0</td>\n",
       "      <td>1.191857</td>\n",
       "      <td>0.266151</td>\n",
       "      <td>0.166480</td>\n",
       "      <td>0.448154</td>\n",
       "      <td>0.060018</td>\n",
       "      <td>-0.082361</td>\n",
       "      <td>-0.078803</td>\n",
       "      <td>0.085102</td>\n",
       "      <td>-0.255425</td>\n",
       "      <td>...</td>\n",
       "      <td>-0.225775</td>\n",
       "      <td>-0.638672</td>\n",
       "      <td>0.101288</td>\n",
       "      <td>-0.339846</td>\n",
       "      <td>0.167170</td>\n",
       "      <td>0.125895</td>\n",
       "      <td>-0.008983</td>\n",
       "      <td>0.014724</td>\n",
       "      <td>2.69</td>\n",
       "      <td>0</td>\n",
       "    </tr>\n",
       "    <tr>\n",
       "      <th>2</th>\n",
       "      <td>1.0</td>\n",
       "      <td>-1.358354</td>\n",
       "      <td>-1.340163</td>\n",
       "      <td>1.773209</td>\n",
       "      <td>0.379780</td>\n",
       "      <td>-0.503198</td>\n",
       "      <td>1.800499</td>\n",
       "      <td>0.791461</td>\n",
       "      <td>0.247676</td>\n",
       "      <td>-1.514654</td>\n",
       "      <td>...</td>\n",
       "      <td>0.247998</td>\n",
       "      <td>0.771679</td>\n",
       "      <td>0.909412</td>\n",
       "      <td>-0.689281</td>\n",
       "      <td>-0.327642</td>\n",
       "      <td>-0.139097</td>\n",
       "      <td>-0.055353</td>\n",
       "      <td>-0.059752</td>\n",
       "      <td>378.66</td>\n",
       "      <td>0</td>\n",
       "    </tr>\n",
       "    <tr>\n",
       "      <th>3</th>\n",
       "      <td>1.0</td>\n",
       "      <td>-0.966272</td>\n",
       "      <td>-0.185226</td>\n",
       "      <td>1.792993</td>\n",
       "      <td>-0.863291</td>\n",
       "      <td>-0.010309</td>\n",
       "      <td>1.247203</td>\n",
       "      <td>0.237609</td>\n",
       "      <td>0.377436</td>\n",
       "      <td>-1.387024</td>\n",
       "      <td>...</td>\n",
       "      <td>-0.108300</td>\n",
       "      <td>0.005274</td>\n",
       "      <td>-0.190321</td>\n",
       "      <td>-1.175575</td>\n",
       "      <td>0.647376</td>\n",
       "      <td>-0.221929</td>\n",
       "      <td>0.062723</td>\n",
       "      <td>0.061458</td>\n",
       "      <td>123.50</td>\n",
       "      <td>0</td>\n",
       "    </tr>\n",
       "    <tr>\n",
       "      <th>4</th>\n",
       "      <td>2.0</td>\n",
       "      <td>-1.158233</td>\n",
       "      <td>0.877737</td>\n",
       "      <td>1.548718</td>\n",
       "      <td>0.403034</td>\n",
       "      <td>-0.407193</td>\n",
       "      <td>0.095921</td>\n",
       "      <td>0.592941</td>\n",
       "      <td>-0.270533</td>\n",
       "      <td>0.817739</td>\n",
       "      <td>...</td>\n",
       "      <td>-0.009431</td>\n",
       "      <td>0.798278</td>\n",
       "      <td>-0.137458</td>\n",
       "      <td>0.141267</td>\n",
       "      <td>-0.206010</td>\n",
       "      <td>0.502292</td>\n",
       "      <td>0.219422</td>\n",
       "      <td>0.215153</td>\n",
       "      <td>69.99</td>\n",
       "      <td>0</td>\n",
       "    </tr>\n",
       "  </tbody>\n",
       "</table>\n",
       "<p>5 rows × 31 columns</p>\n",
       "</div>"
      ],
      "text/plain": [
       "   Time        V1        V2        V3        V4        V5        V6        V7  \\\n",
       "0   0.0 -1.359807 -0.072781  2.536347  1.378155 -0.338321  0.462388  0.239599   \n",
       "1   0.0  1.191857  0.266151  0.166480  0.448154  0.060018 -0.082361 -0.078803   \n",
       "2   1.0 -1.358354 -1.340163  1.773209  0.379780 -0.503198  1.800499  0.791461   \n",
       "3   1.0 -0.966272 -0.185226  1.792993 -0.863291 -0.010309  1.247203  0.237609   \n",
       "4   2.0 -1.158233  0.877737  1.548718  0.403034 -0.407193  0.095921  0.592941   \n",
       "\n",
       "         V8        V9  ...       V21       V22       V23       V24       V25  \\\n",
       "0  0.098698  0.363787  ... -0.018307  0.277838 -0.110474  0.066928  0.128539   \n",
       "1  0.085102 -0.255425  ... -0.225775 -0.638672  0.101288 -0.339846  0.167170   \n",
       "2  0.247676 -1.514654  ...  0.247998  0.771679  0.909412 -0.689281 -0.327642   \n",
       "3  0.377436 -1.387024  ... -0.108300  0.005274 -0.190321 -1.175575  0.647376   \n",
       "4 -0.270533  0.817739  ... -0.009431  0.798278 -0.137458  0.141267 -0.206010   \n",
       "\n",
       "        V26       V27       V28  Amount  Class  \n",
       "0 -0.189115  0.133558 -0.021053  149.62      0  \n",
       "1  0.125895 -0.008983  0.014724    2.69      0  \n",
       "2 -0.139097 -0.055353 -0.059752  378.66      0  \n",
       "3 -0.221929  0.062723  0.061458  123.50      0  \n",
       "4  0.502292  0.219422  0.215153   69.99      0  \n",
       "\n",
       "[5 rows x 31 columns]"
      ]
     },
     "execution_count": 2,
     "metadata": {},
     "output_type": "execute_result"
    }
   ],
   "source": [
    "# load data\n",
    "df = pd.read_csv('../input/creditcardfraud/creditcard.csv')\n",
    "df.head()"
   ]
  },
  {
   "cell_type": "code",
   "execution_count": 3,
   "metadata": {
    "execution": {
     "iopub.execute_input": "2020-10-14T14:38:44.325515Z",
     "iopub.status.busy": "2020-10-14T14:38:44.324032Z",
     "iopub.status.idle": "2020-10-14T14:38:44.354271Z",
     "shell.execute_reply": "2020-10-14T14:38:44.353474Z"
    },
    "papermill": {
     "duration": 0.068914,
     "end_time": "2020-10-14T14:38:44.354409",
     "exception": false,
     "start_time": "2020-10-14T14:38:44.285495",
     "status": "completed"
    },
    "tags": []
   },
   "outputs": [
    {
     "data": {
      "text/plain": [
       "False"
      ]
     },
     "execution_count": 3,
     "metadata": {},
     "output_type": "execute_result"
    }
   ],
   "source": [
    "# Check for NaN\n",
    "df.isna().sum().any()"
   ]
  },
  {
   "cell_type": "code",
   "execution_count": 4,
   "metadata": {
    "execution": {
     "iopub.execute_input": "2020-10-14T14:38:44.478732Z",
     "iopub.status.busy": "2020-10-14T14:38:44.477828Z",
     "iopub.status.idle": "2020-10-14T14:38:44.914710Z",
     "shell.execute_reply": "2020-10-14T14:38:44.914050Z"
    },
    "papermill": {
     "duration": 0.523353,
     "end_time": "2020-10-14T14:38:44.914839",
     "exception": false,
     "start_time": "2020-10-14T14:38:44.391486",
     "status": "completed"
    },
    "tags": []
   },
   "outputs": [
    {
     "data": {
      "text/html": [
       "<div>\n",
       "<style scoped>\n",
       "    .dataframe tbody tr th:only-of-type {\n",
       "        vertical-align: middle;\n",
       "    }\n",
       "\n",
       "    .dataframe tbody tr th {\n",
       "        vertical-align: top;\n",
       "    }\n",
       "\n",
       "    .dataframe thead th {\n",
       "        text-align: right;\n",
       "    }\n",
       "</style>\n",
       "<table border=\"1\" class=\"dataframe\">\n",
       "  <thead>\n",
       "    <tr style=\"text-align: right;\">\n",
       "      <th></th>\n",
       "      <th>Time</th>\n",
       "      <th>V1</th>\n",
       "      <th>V2</th>\n",
       "      <th>V3</th>\n",
       "      <th>V4</th>\n",
       "      <th>V5</th>\n",
       "      <th>V6</th>\n",
       "      <th>V7</th>\n",
       "      <th>V8</th>\n",
       "      <th>V9</th>\n",
       "      <th>...</th>\n",
       "      <th>V21</th>\n",
       "      <th>V22</th>\n",
       "      <th>V23</th>\n",
       "      <th>V24</th>\n",
       "      <th>V25</th>\n",
       "      <th>V26</th>\n",
       "      <th>V27</th>\n",
       "      <th>V28</th>\n",
       "      <th>Amount</th>\n",
       "      <th>Class</th>\n",
       "    </tr>\n",
       "  </thead>\n",
       "  <tbody>\n",
       "    <tr>\n",
       "      <th>count</th>\n",
       "      <td>284807.000000</td>\n",
       "      <td>2.848070e+05</td>\n",
       "      <td>2.848070e+05</td>\n",
       "      <td>2.848070e+05</td>\n",
       "      <td>2.848070e+05</td>\n",
       "      <td>2.848070e+05</td>\n",
       "      <td>2.848070e+05</td>\n",
       "      <td>2.848070e+05</td>\n",
       "      <td>2.848070e+05</td>\n",
       "      <td>2.848070e+05</td>\n",
       "      <td>...</td>\n",
       "      <td>2.848070e+05</td>\n",
       "      <td>2.848070e+05</td>\n",
       "      <td>2.848070e+05</td>\n",
       "      <td>2.848070e+05</td>\n",
       "      <td>2.848070e+05</td>\n",
       "      <td>2.848070e+05</td>\n",
       "      <td>2.848070e+05</td>\n",
       "      <td>2.848070e+05</td>\n",
       "      <td>284807.000000</td>\n",
       "      <td>284807.000000</td>\n",
       "    </tr>\n",
       "    <tr>\n",
       "      <th>mean</th>\n",
       "      <td>94813.859575</td>\n",
       "      <td>3.919560e-15</td>\n",
       "      <td>5.688174e-16</td>\n",
       "      <td>-8.769071e-15</td>\n",
       "      <td>2.782312e-15</td>\n",
       "      <td>-1.552563e-15</td>\n",
       "      <td>2.010663e-15</td>\n",
       "      <td>-1.694249e-15</td>\n",
       "      <td>-1.927028e-16</td>\n",
       "      <td>-3.137024e-15</td>\n",
       "      <td>...</td>\n",
       "      <td>1.537294e-16</td>\n",
       "      <td>7.959909e-16</td>\n",
       "      <td>5.367590e-16</td>\n",
       "      <td>4.458112e-15</td>\n",
       "      <td>1.453003e-15</td>\n",
       "      <td>1.699104e-15</td>\n",
       "      <td>-3.660161e-16</td>\n",
       "      <td>-1.206049e-16</td>\n",
       "      <td>88.349619</td>\n",
       "      <td>0.001727</td>\n",
       "    </tr>\n",
       "    <tr>\n",
       "      <th>std</th>\n",
       "      <td>47488.145955</td>\n",
       "      <td>1.958696e+00</td>\n",
       "      <td>1.651309e+00</td>\n",
       "      <td>1.516255e+00</td>\n",
       "      <td>1.415869e+00</td>\n",
       "      <td>1.380247e+00</td>\n",
       "      <td>1.332271e+00</td>\n",
       "      <td>1.237094e+00</td>\n",
       "      <td>1.194353e+00</td>\n",
       "      <td>1.098632e+00</td>\n",
       "      <td>...</td>\n",
       "      <td>7.345240e-01</td>\n",
       "      <td>7.257016e-01</td>\n",
       "      <td>6.244603e-01</td>\n",
       "      <td>6.056471e-01</td>\n",
       "      <td>5.212781e-01</td>\n",
       "      <td>4.822270e-01</td>\n",
       "      <td>4.036325e-01</td>\n",
       "      <td>3.300833e-01</td>\n",
       "      <td>250.120109</td>\n",
       "      <td>0.041527</td>\n",
       "    </tr>\n",
       "    <tr>\n",
       "      <th>min</th>\n",
       "      <td>0.000000</td>\n",
       "      <td>-5.640751e+01</td>\n",
       "      <td>-7.271573e+01</td>\n",
       "      <td>-4.832559e+01</td>\n",
       "      <td>-5.683171e+00</td>\n",
       "      <td>-1.137433e+02</td>\n",
       "      <td>-2.616051e+01</td>\n",
       "      <td>-4.355724e+01</td>\n",
       "      <td>-7.321672e+01</td>\n",
       "      <td>-1.343407e+01</td>\n",
       "      <td>...</td>\n",
       "      <td>-3.483038e+01</td>\n",
       "      <td>-1.093314e+01</td>\n",
       "      <td>-4.480774e+01</td>\n",
       "      <td>-2.836627e+00</td>\n",
       "      <td>-1.029540e+01</td>\n",
       "      <td>-2.604551e+00</td>\n",
       "      <td>-2.256568e+01</td>\n",
       "      <td>-1.543008e+01</td>\n",
       "      <td>0.000000</td>\n",
       "      <td>0.000000</td>\n",
       "    </tr>\n",
       "    <tr>\n",
       "      <th>25%</th>\n",
       "      <td>54201.500000</td>\n",
       "      <td>-9.203734e-01</td>\n",
       "      <td>-5.985499e-01</td>\n",
       "      <td>-8.903648e-01</td>\n",
       "      <td>-8.486401e-01</td>\n",
       "      <td>-6.915971e-01</td>\n",
       "      <td>-7.682956e-01</td>\n",
       "      <td>-5.540759e-01</td>\n",
       "      <td>-2.086297e-01</td>\n",
       "      <td>-6.430976e-01</td>\n",
       "      <td>...</td>\n",
       "      <td>-2.283949e-01</td>\n",
       "      <td>-5.423504e-01</td>\n",
       "      <td>-1.618463e-01</td>\n",
       "      <td>-3.545861e-01</td>\n",
       "      <td>-3.171451e-01</td>\n",
       "      <td>-3.269839e-01</td>\n",
       "      <td>-7.083953e-02</td>\n",
       "      <td>-5.295979e-02</td>\n",
       "      <td>5.600000</td>\n",
       "      <td>0.000000</td>\n",
       "    </tr>\n",
       "    <tr>\n",
       "      <th>50%</th>\n",
       "      <td>84692.000000</td>\n",
       "      <td>1.810880e-02</td>\n",
       "      <td>6.548556e-02</td>\n",
       "      <td>1.798463e-01</td>\n",
       "      <td>-1.984653e-02</td>\n",
       "      <td>-5.433583e-02</td>\n",
       "      <td>-2.741871e-01</td>\n",
       "      <td>4.010308e-02</td>\n",
       "      <td>2.235804e-02</td>\n",
       "      <td>-5.142873e-02</td>\n",
       "      <td>...</td>\n",
       "      <td>-2.945017e-02</td>\n",
       "      <td>6.781943e-03</td>\n",
       "      <td>-1.119293e-02</td>\n",
       "      <td>4.097606e-02</td>\n",
       "      <td>1.659350e-02</td>\n",
       "      <td>-5.213911e-02</td>\n",
       "      <td>1.342146e-03</td>\n",
       "      <td>1.124383e-02</td>\n",
       "      <td>22.000000</td>\n",
       "      <td>0.000000</td>\n",
       "    </tr>\n",
       "    <tr>\n",
       "      <th>75%</th>\n",
       "      <td>139320.500000</td>\n",
       "      <td>1.315642e+00</td>\n",
       "      <td>8.037239e-01</td>\n",
       "      <td>1.027196e+00</td>\n",
       "      <td>7.433413e-01</td>\n",
       "      <td>6.119264e-01</td>\n",
       "      <td>3.985649e-01</td>\n",
       "      <td>5.704361e-01</td>\n",
       "      <td>3.273459e-01</td>\n",
       "      <td>5.971390e-01</td>\n",
       "      <td>...</td>\n",
       "      <td>1.863772e-01</td>\n",
       "      <td>5.285536e-01</td>\n",
       "      <td>1.476421e-01</td>\n",
       "      <td>4.395266e-01</td>\n",
       "      <td>3.507156e-01</td>\n",
       "      <td>2.409522e-01</td>\n",
       "      <td>9.104512e-02</td>\n",
       "      <td>7.827995e-02</td>\n",
       "      <td>77.165000</td>\n",
       "      <td>0.000000</td>\n",
       "    </tr>\n",
       "    <tr>\n",
       "      <th>max</th>\n",
       "      <td>172792.000000</td>\n",
       "      <td>2.454930e+00</td>\n",
       "      <td>2.205773e+01</td>\n",
       "      <td>9.382558e+00</td>\n",
       "      <td>1.687534e+01</td>\n",
       "      <td>3.480167e+01</td>\n",
       "      <td>7.330163e+01</td>\n",
       "      <td>1.205895e+02</td>\n",
       "      <td>2.000721e+01</td>\n",
       "      <td>1.559499e+01</td>\n",
       "      <td>...</td>\n",
       "      <td>2.720284e+01</td>\n",
       "      <td>1.050309e+01</td>\n",
       "      <td>2.252841e+01</td>\n",
       "      <td>4.584549e+00</td>\n",
       "      <td>7.519589e+00</td>\n",
       "      <td>3.517346e+00</td>\n",
       "      <td>3.161220e+01</td>\n",
       "      <td>3.384781e+01</td>\n",
       "      <td>25691.160000</td>\n",
       "      <td>1.000000</td>\n",
       "    </tr>\n",
       "  </tbody>\n",
       "</table>\n",
       "<p>8 rows × 31 columns</p>\n",
       "</div>"
      ],
      "text/plain": [
       "                Time            V1            V2            V3            V4  \\\n",
       "count  284807.000000  2.848070e+05  2.848070e+05  2.848070e+05  2.848070e+05   \n",
       "mean    94813.859575  3.919560e-15  5.688174e-16 -8.769071e-15  2.782312e-15   \n",
       "std     47488.145955  1.958696e+00  1.651309e+00  1.516255e+00  1.415869e+00   \n",
       "min         0.000000 -5.640751e+01 -7.271573e+01 -4.832559e+01 -5.683171e+00   \n",
       "25%     54201.500000 -9.203734e-01 -5.985499e-01 -8.903648e-01 -8.486401e-01   \n",
       "50%     84692.000000  1.810880e-02  6.548556e-02  1.798463e-01 -1.984653e-02   \n",
       "75%    139320.500000  1.315642e+00  8.037239e-01  1.027196e+00  7.433413e-01   \n",
       "max    172792.000000  2.454930e+00  2.205773e+01  9.382558e+00  1.687534e+01   \n",
       "\n",
       "                 V5            V6            V7            V8            V9  \\\n",
       "count  2.848070e+05  2.848070e+05  2.848070e+05  2.848070e+05  2.848070e+05   \n",
       "mean  -1.552563e-15  2.010663e-15 -1.694249e-15 -1.927028e-16 -3.137024e-15   \n",
       "std    1.380247e+00  1.332271e+00  1.237094e+00  1.194353e+00  1.098632e+00   \n",
       "min   -1.137433e+02 -2.616051e+01 -4.355724e+01 -7.321672e+01 -1.343407e+01   \n",
       "25%   -6.915971e-01 -7.682956e-01 -5.540759e-01 -2.086297e-01 -6.430976e-01   \n",
       "50%   -5.433583e-02 -2.741871e-01  4.010308e-02  2.235804e-02 -5.142873e-02   \n",
       "75%    6.119264e-01  3.985649e-01  5.704361e-01  3.273459e-01  5.971390e-01   \n",
       "max    3.480167e+01  7.330163e+01  1.205895e+02  2.000721e+01  1.559499e+01   \n",
       "\n",
       "       ...           V21           V22           V23           V24  \\\n",
       "count  ...  2.848070e+05  2.848070e+05  2.848070e+05  2.848070e+05   \n",
       "mean   ...  1.537294e-16  7.959909e-16  5.367590e-16  4.458112e-15   \n",
       "std    ...  7.345240e-01  7.257016e-01  6.244603e-01  6.056471e-01   \n",
       "min    ... -3.483038e+01 -1.093314e+01 -4.480774e+01 -2.836627e+00   \n",
       "25%    ... -2.283949e-01 -5.423504e-01 -1.618463e-01 -3.545861e-01   \n",
       "50%    ... -2.945017e-02  6.781943e-03 -1.119293e-02  4.097606e-02   \n",
       "75%    ...  1.863772e-01  5.285536e-01  1.476421e-01  4.395266e-01   \n",
       "max    ...  2.720284e+01  1.050309e+01  2.252841e+01  4.584549e+00   \n",
       "\n",
       "                V25           V26           V27           V28         Amount  \\\n",
       "count  2.848070e+05  2.848070e+05  2.848070e+05  2.848070e+05  284807.000000   \n",
       "mean   1.453003e-15  1.699104e-15 -3.660161e-16 -1.206049e-16      88.349619   \n",
       "std    5.212781e-01  4.822270e-01  4.036325e-01  3.300833e-01     250.120109   \n",
       "min   -1.029540e+01 -2.604551e+00 -2.256568e+01 -1.543008e+01       0.000000   \n",
       "25%   -3.171451e-01 -3.269839e-01 -7.083953e-02 -5.295979e-02       5.600000   \n",
       "50%    1.659350e-02 -5.213911e-02  1.342146e-03  1.124383e-02      22.000000   \n",
       "75%    3.507156e-01  2.409522e-01  9.104512e-02  7.827995e-02      77.165000   \n",
       "max    7.519589e+00  3.517346e+00  3.161220e+01  3.384781e+01   25691.160000   \n",
       "\n",
       "               Class  \n",
       "count  284807.000000  \n",
       "mean        0.001727  \n",
       "std         0.041527  \n",
       "min         0.000000  \n",
       "25%         0.000000  \n",
       "50%         0.000000  \n",
       "75%         0.000000  \n",
       "max         1.000000  \n",
       "\n",
       "[8 rows x 31 columns]"
      ]
     },
     "execution_count": 4,
     "metadata": {},
     "output_type": "execute_result"
    }
   ],
   "source": [
    "# summary stats\n",
    "df.describe()"
   ]
  },
  {
   "cell_type": "markdown",
   "metadata": {
    "papermill": {
     "duration": 0.031258,
     "end_time": "2020-10-14T14:38:44.977832",
     "exception": false,
     "start_time": "2020-10-14T14:38:44.946574",
     "status": "completed"
    },
    "tags": []
   },
   "source": [
    "# Basic EDA"
   ]
  },
  {
   "cell_type": "markdown",
   "metadata": {
    "papermill": {
     "duration": 0.032312,
     "end_time": "2020-10-14T14:38:45.041584",
     "exception": false,
     "start_time": "2020-10-14T14:38:45.009272",
     "status": "completed"
    },
    "tags": []
   },
   "source": [
    "Distribution of 'Amount' variable"
   ]
  },
  {
   "cell_type": "code",
   "execution_count": 5,
   "metadata": {
    "execution": {
     "iopub.execute_input": "2020-10-14T14:38:45.112832Z",
     "iopub.status.busy": "2020-10-14T14:38:45.111961Z",
     "iopub.status.idle": "2020-10-14T14:38:45.572226Z",
     "shell.execute_reply": "2020-10-14T14:38:45.571393Z"
    },
    "papermill": {
     "duration": 0.498894,
     "end_time": "2020-10-14T14:38:45.572359",
     "exception": false,
     "start_time": "2020-10-14T14:38:45.073465",
     "status": "completed"
    },
    "tags": []
   },
   "outputs": [
    {
     "data": {
      "text/plain": [
       "<matplotlib.axes._subplots.AxesSubplot at 0x7fa33d182610>"
      ]
     },
     "execution_count": 5,
     "metadata": {},
     "output_type": "execute_result"
    },
    {
     "data": {
      "image/png": "[encoded data removed]",
      "text/plain": [
       "<Figure size 576x360 with 1 Axes>"
      ]
     },
     "metadata": {
      "needs_background": "light"
     },
     "output_type": "display_data"
    }
   ],
   "source": [
    "plt.figure(figsize=(8,5))\n",
    "sns.distplot(df['Amount'])"
   ]
  },
  {
   "cell_type": "code",
   "execution_count": 6,
   "metadata": {
    "execution": {
     "iopub.execute_input": "2020-10-14T14:38:45.653296Z",
     "iopub.status.busy": "2020-10-14T14:38:45.647581Z",
     "iopub.status.idle": "2020-10-14T14:38:46.976754Z",
     "shell.execute_reply": "2020-10-14T14:38:46.976015Z"
    },
    "papermill": {
     "duration": 1.370326,
     "end_time": "2020-10-14T14:38:46.976886",
     "exception": false,
     "start_time": "2020-10-14T14:38:45.606560",
     "status": "completed"
    },
    "tags": []
   },
   "outputs": [
    {
     "data": {
      "text/plain": [
       "<matplotlib.axes._subplots.AxesSubplot at 0x7fa33cfdadd0>"
      ]
     },
     "execution_count": 6,
     "metadata": {},
     "output_type": "execute_result"
    },
    {
     "data": {
      "image/png": "[encoded data removed]",
      "text/plain": [
       "<Figure size 720x576 with 2 Axes>"
      ]
     },
     "metadata": {
      "needs_background": "light"
     },
     "output_type": "display_data"
    }
   ],
   "source": [
    "# correlation between variables\n",
    "\n",
    "plt.figure(figsize=(10,8))\n",
    "plt.title('Correlation between features')\n",
    "sns.heatmap(df.corr())"
   ]
  },
  {
   "cell_type": "code",
   "execution_count": 7,
   "metadata": {
    "execution": {
     "iopub.execute_input": "2020-10-14T14:38:47.068019Z",
     "iopub.status.busy": "2020-10-14T14:38:47.067054Z",
     "iopub.status.idle": "2020-10-14T14:38:47.351497Z",
     "shell.execute_reply": "2020-10-14T14:38:47.352167Z"
    },
    "papermill": {
     "duration": 0.336095,
     "end_time": "2020-10-14T14:38:47.352330",
     "exception": false,
     "start_time": "2020-10-14T14:38:47.016235",
     "status": "completed"
    },
    "tags": []
   },
   "outputs": [
    {
     "data": {
      "text/html": [
       "        <script type=\"text/javascript\">\n",
       "        window.PlotlyConfig = {MathJaxConfig: 'local'};\n",
       "        if (window.MathJax) {MathJax.Hub.Config({SVG: {font: \"STIX-Web\"}});}\n",
       "        if (typeof require !== 'undefined') {\n",
       "        require.undef(\"plotly\");\n",
       "        requirejs.config({\n",
       "            paths: {\n",
       "                'plotly': ['https://cdn.plot.ly/plotly-latest.min']\n",
       "            }\n",
       "        });\n",
       "        require(['plotly'], function(Plotly) {\n",
       "            window._Plotly = Plotly;\n",
       "        });\n",
       "        }\n",
       "        </script>\n",
       "        "
      ]
     },
     "metadata": {},
     "output_type": "display_data"
    },
    {
     "data": {
      "text/html": [
       "<div>                            <div id=\"db8f9b97-0a9a-46b2-b3ac-fd5a9ed647f6\" class=\"plotly-graph-div\" style=\"height:400px; width:500px;\"></div>            <script type=\"text/javascript\">                require([\"plotly\"], function(Plotly) {                    window.PLOTLYENV=window.PLOTLYENV || {};                                    if (document.getElementById(\"db8f9b97-0a9a-46b2-b3ac-fd5a9ed647f6\")) {                    Plotly.newPlot(                        \"db8f9b97-0a9a-46b2-b3ac-fd5a9ed647f6\",                        [{\"name\": \"Class distribution\", \"text\": [\"99.827%\", \"0.173%\"], \"textposition\": \"auto\", \"type\": \"bar\", \"x\": [\"Normal cases\", \"Fraud cases\"], \"xaxis\": \"x\", \"y\": [284315, 492], \"yaxis\": \"y\"}],                        {\"height\": 400, \"template\": {\"data\": {\"bar\": [{\"error_x\": {\"color\": \"#2a3f5f\"}, \"error_y\": {\"color\": \"#2a3f5f\"}, \"marker\": {\"line\": {\"color\": \"#E5ECF6\", \"width\": 0.5}}, \"type\": \"bar\"}], \"barpolar\": [{\"marker\": {\"line\": {\"color\": \"#E5ECF6\", \"width\": 0.5}}, \"type\": \"barpolar\"}], \"carpet\": [{\"aaxis\": {\"endlinecolor\": \"#2a3f5f\", \"gridcolor\": \"white\", \"linecolor\": \"white\", \"minorgridcolor\": \"white\", \"startlinecolor\": \"#2a3f5f\"}, \"baxis\": {\"endlinecolor\": \"#2a3f5f\", \"gridcolor\": \"white\", \"linecolor\": \"white\", \"minorgridcolor\": \"white\", \"startlinecolor\": \"#2a3f5f\"}, \"type\": \"carpet\"}], \"choropleth\": [{\"colorbar\": {\"outlinewidth\": 0, \"ticks\": \"\"}, \"type\": \"choropleth\"}], \"contour\": [{\"colorbar\": {\"outlinewidth\": 0, \"ticks\": \"\"}, \"colorscale\": [[0.0, \"#0d0887\"], [0.1111111111111111, \"#46039f\"], [0.2222222222222222, \"#7201a8\"], [0.3333333333333333, \"#9c179e\"], [0.4444444444444444, \"#bd3786\"], [0.5555555555555556, \"#d8576b\"], [0.6666666666666666, \"#ed7953\"], [0.7777777777777778, \"#fb9f3a\"], [0.8888888888888888, \"#fdca26\"], [1.0, \"#f0f921\"]], \"type\": \"contour\"}], \"contourcarpet\": [{\"colorbar\": {\"outlinewidth\": 0, \"ticks\": \"\"}, \"type\": \"contourcarpet\"}], \"heatmap\": [{\"colorbar\": {\"outlinewidth\": 0, \"ticks\": \"\"}, \"colorscale\": [[0.0, \"#0d0887\"], [0.1111111111111111, \"#46039f\"], [0.2222222222222222, \"#7201a8\"], [0.3333333333333333, \"#9c179e\"], [0.4444444444444444, \"#bd3786\"], [0.5555555555555556, \"#d8576b\"], [0.6666666666666666, \"#ed7953\"], [0.7777777777777778, \"#fb9f3a\"], [0.8888888888888888, \"#fdca26\"], [1.0, \"#f0f921\"]], \"type\": \"heatmap\"}], \"heatmapgl\": [{\"colorbar\": {\"outlinewidth\": 0, \"ticks\": \"\"}, \"colorscale\": [[0.0, \"#0d0887\"], [0.1111111111111111, \"#46039f\"], [0.2222222222222222, \"#7201a8\"], [0.3333333333333333, \"#9c179e\"], [0.4444444444444444, \"#bd3786\"], [0.5555555555555556, \"#d8576b\"], [0.6666666666666666, \"#ed7953\"], [0.7777777777777778, \"#fb9f3a\"], [0.8888888888888888, \"#fdca26\"], [1.0, \"#f0f921\"]], \"type\": \"heatmapgl\"}], \"histogram\": [{\"marker\": {\"colorbar\": {\"outlinewidth\": 0, \"ticks\": \"\"}}, \"type\": \"histogram\"}], \"histogram2d\": [{\"colorbar\": {\"outlinewidth\": 0, \"ticks\": \"\"}, \"colorscale\": [[0.0, \"#0d0887\"], [0.1111111111111111, \"#46039f\"], [0.2222222222222222, \"#7201a8\"], [0.3333333333333333, \"#9c179e\"], [0.4444444444444444, \"#bd3786\"], [0.5555555555555556, \"#d8576b\"], [0.6666666666666666, \"#ed7953\"], [0.7777777777777778, \"#fb9f3a\"], [0.8888888888888888, \"#fdca26\"], [1.0, \"#f0f921\"]], \"type\": \"histogram2d\"}], \"histogram2dcontour\": [{\"colorbar\": {\"outlinewidth\": 0, \"ticks\": \"\"}, \"colorscale\": [[0.0, \"#0d0887\"], [0.1111111111111111, \"#46039f\"], [0.2222222222222222, \"#7201a8\"], [0.3333333333333333, \"#9c179e\"], [0.4444444444444444, \"#bd3786\"], [0.5555555555555556, \"#d8576b\"], [0.6666666666666666, \"#ed7953\"], [0.7777777777777778, \"#fb9f3a\"], [0.8888888888888888, \"#fdca26\"], [1.0, \"#f0f921\"]], \"type\": \"histogram2dcontour\"}], \"mesh3d\": [{\"colorbar\": {\"outlinewidth\": 0, \"ticks\": \"\"}, \"type\": \"mesh3d\"}], \"parcoords\": [{\"line\": {\"colorbar\": {\"outlinewidth\": 0, \"ticks\": \"\"}}, \"type\": \"parcoords\"}], \"pie\": [{\"automargin\": true, \"type\": \"pie\"}], \"scatter\": [{\"marker\": {\"colorbar\": {\"outlinewidth\": 0, \"ticks\": \"\"}}, \"type\": \"scatter\"}], \"scatter3d\": [{\"line\": {\"colorbar\": {\"outlinewidth\": 0, \"ticks\": \"\"}}, \"marker\": {\"colorbar\": {\"outlinewidth\": 0, \"ticks\": \"\"}}, \"type\": \"scatter3d\"}], \"scattercarpet\": [{\"marker\": {\"colorbar\": {\"outlinewidth\": 0, \"ticks\": \"\"}}, \"type\": \"scattercarpet\"}], \"scattergeo\": [{\"marker\": {\"colorbar\": {\"outlinewidth\": 0, \"ticks\": \"\"}}, \"type\": \"scattergeo\"}], \"scattergl\": [{\"marker\": {\"colorbar\": {\"outlinewidth\": 0, \"ticks\": \"\"}}, \"type\": \"scattergl\"}], \"scattermapbox\": [{\"marker\": {\"colorbar\": {\"outlinewidth\": 0, \"ticks\": \"\"}}, \"type\": \"scattermapbox\"}], \"scatterpolar\": [{\"marker\": {\"colorbar\": {\"outlinewidth\": 0, \"ticks\": \"\"}}, \"type\": \"scatterpolar\"}], \"scatterpolargl\": [{\"marker\": {\"colorbar\": {\"outlinewidth\": 0, \"ticks\": \"\"}}, \"type\": \"scatterpolargl\"}], \"scatterternary\": [{\"marker\": {\"colorbar\": {\"outlinewidth\": 0, \"ticks\": \"\"}}, \"type\": \"scatterternary\"}], \"surface\": [{\"colorbar\": {\"outlinewidth\": 0, \"ticks\": \"\"}, \"colorscale\": [[0.0, \"#0d0887\"], [0.1111111111111111, \"#46039f\"], [0.2222222222222222, \"#7201a8\"], [0.3333333333333333, \"#9c179e\"], [0.4444444444444444, \"#bd3786\"], [0.5555555555555556, \"#d8576b\"], [0.6666666666666666, \"#ed7953\"], [0.7777777777777778, \"#fb9f3a\"], [0.8888888888888888, \"#fdca26\"], [1.0, \"#f0f921\"]], \"type\": \"surface\"}], \"table\": [{\"cells\": {\"fill\": {\"color\": \"#EBF0F8\"}, \"line\": {\"color\": \"white\"}}, \"header\": {\"fill\": {\"color\": \"#C8D4E3\"}, \"line\": {\"color\": \"white\"}}, \"type\": \"table\"}]}, \"layout\": {\"annotationdefaults\": {\"arrowcolor\": \"#2a3f5f\", \"arrowhead\": 0, \"arrowwidth\": 1}, \"coloraxis\": {\"colorbar\": {\"outlinewidth\": 0, \"ticks\": \"\"}}, \"colorscale\": {\"diverging\": [[0, \"#8e0152\"], [0.1, \"#c51b7d\"], [0.2, \"#de77ae\"], [0.3, \"#f1b6da\"], [0.4, \"#fde0ef\"], [0.5, \"#f7f7f7\"], [0.6, \"#e6f5d0\"], [0.7, \"#b8e186\"], [0.8, \"#7fbc41\"], [0.9, \"#4d9221\"], [1, \"#276419\"]], \"sequential\": [[0.0, \"#0d0887\"], [0.1111111111111111, \"#46039f\"], [0.2222222222222222, \"#7201a8\"], [0.3333333333333333, \"#9c179e\"], [0.4444444444444444, \"#bd3786\"], [0.5555555555555556, \"#d8576b\"], [0.6666666666666666, \"#ed7953\"], [0.7777777777777778, \"#fb9f3a\"], [0.8888888888888888, \"#fdca26\"], [1.0, \"#f0f921\"]], \"sequentialminus\": [[0.0, \"#0d0887\"], [0.1111111111111111, \"#46039f\"], [0.2222222222222222, \"#7201a8\"], [0.3333333333333333, \"#9c179e\"], [0.4444444444444444, \"#bd3786\"], [0.5555555555555556, \"#d8576b\"], [0.6666666666666666, \"#ed7953\"], [0.7777777777777778, \"#fb9f3a\"], [0.8888888888888888, \"#fdca26\"], [1.0, \"#f0f921\"]]}, \"colorway\": [\"#636efa\", \"#EF553B\", \"#00cc96\", \"#ab63fa\", \"#FFA15A\", \"#19d3f3\", \"#FF6692\", \"#B6E880\", \"#FF97FF\", \"#FECB52\"], \"font\": {\"color\": \"#2a3f5f\"}, \"geo\": {\"bgcolor\": \"white\", \"lakecolor\": \"white\", \"landcolor\": \"#E5ECF6\", \"showlakes\": true, \"showland\": true, \"subunitcolor\": \"white\"}, \"hoverlabel\": {\"align\": \"left\"}, \"hovermode\": \"closest\", \"mapbox\": {\"style\": \"light\"}, \"paper_bgcolor\": \"white\", \"plot_bgcolor\": \"#E5ECF6\", \"polar\": {\"angularaxis\": {\"gridcolor\": \"white\", \"linecolor\": \"white\", \"ticks\": \"\"}, \"bgcolor\": \"#E5ECF6\", \"radialaxis\": {\"gridcolor\": \"white\", \"linecolor\": \"white\", \"ticks\": \"\"}}, \"scene\": {\"xaxis\": {\"backgroundcolor\": \"#E5ECF6\", \"gridcolor\": \"white\", \"gridwidth\": 2, \"linecolor\": \"white\", \"showbackground\": true, \"ticks\": \"\", \"zerolinecolor\": \"white\"}, \"yaxis\": {\"backgroundcolor\": \"#E5ECF6\", \"gridcolor\": \"white\", \"gridwidth\": 2, \"linecolor\": \"white\", \"showbackground\": true, \"ticks\": \"\", \"zerolinecolor\": \"white\"}, \"zaxis\": {\"backgroundcolor\": \"#E5ECF6\", \"gridcolor\": \"white\", \"gridwidth\": 2, \"linecolor\": \"white\", \"showbackground\": true, \"ticks\": \"\", \"zerolinecolor\": \"white\"}}, \"shapedefaults\": {\"line\": {\"color\": \"#2a3f5f\"}}, \"ternary\": {\"aaxis\": {\"gridcolor\": \"white\", \"linecolor\": \"white\", \"ticks\": \"\"}, \"baxis\": {\"gridcolor\": \"white\", \"linecolor\": \"white\", \"ticks\": \"\"}, \"bgcolor\": \"#E5ECF6\", \"caxis\": {\"gridcolor\": \"white\", \"linecolor\": \"white\", \"ticks\": \"\"}}, \"title\": {\"x\": 0.05}, \"xaxis\": {\"automargin\": true, \"gridcolor\": \"white\", \"linecolor\": \"white\", \"ticks\": \"\", \"title\": {\"standoff\": 15}, \"zerolinecolor\": \"white\", \"zerolinewidth\": 2}, \"yaxis\": {\"automargin\": true, \"gridcolor\": \"white\", \"linecolor\": \"white\", \"ticks\": \"\", \"title\": {\"standoff\": 15}, \"zerolinecolor\": \"white\", \"zerolinewidth\": 2}}}, \"title\": {\"text\": \"Class distribution\"}, \"width\": 500, \"xaxis\": {\"anchor\": \"y\", \"domain\": [0.0, 1.0]}, \"yaxis\": {\"anchor\": \"x\", \"domain\": [0.0, 1.0]}},                        {\"responsive\": true}                    ).then(function(){\n",
       "                            \n",
       "var gd = document.getElementById('db8f9b97-0a9a-46b2-b3ac-fd5a9ed647f6');\n",
       "var x = new MutationObserver(function (mutations, observer) {{\n",
       "        var display = window.getComputedStyle(gd).display;\n",
       "        if (!display || display === 'none') {{\n",
       "            console.log([gd, 'removed!']);\n",
       "            Plotly.purge(gd);\n",
       "            observer.disconnect();\n",
       "        }}\n",
       "}});\n",
       "\n",
       "// Listen for the removal of the full notebook cells\n",
       "var notebookContainer = gd.closest('#notebook-container');\n",
       "if (notebookContainer) {{\n",
       "    x.observe(notebookContainer, {childList: true});\n",
       "}}\n",
       "\n",
       "// Listen for the clearing of the current output cell\n",
       "var outputEl = gd.closest('.output');\n",
       "if (outputEl) {{\n",
       "    x.observe(outputEl, {childList: true});\n",
       "}}\n",
       "\n",
       "                        })                };                });            </script>        </div>"
      ]
     },
     "metadata": {},
     "output_type": "display_data"
    }
   ],
   "source": [
    "# Plot class distribution\n",
    "\n",
    "fig = make_subplots(rows=1,cols=1)\n",
    "trace = go.Bar(x = ['Normal cases','Fraud cases'], y = [len(df[df.Class==0]), len(df[df.Class==1])],\n",
    "         name = 'Class distribution',\n",
    "         text = [\n",
    "             str(round(100*len(df[df.Class==0])/len(df),3)) + '%',\n",
    "             str(round(100*len(df[df.Class==1])/len(df),3)) + '%'\n",
    "         ],\n",
    "         textposition = 'auto')\n",
    "fig.append_trace(trace, 1, 1)\n",
    "fig.update_layout(title='Class distribution', width=500, height=400)\n",
    "fig.show()"
   ]
  },
  {
   "cell_type": "markdown",
   "metadata": {
    "papermill": {
     "duration": 0.03624,
     "end_time": "2020-10-14T14:38:47.424808",
     "exception": false,
     "start_time": "2020-10-14T14:38:47.388568",
     "status": "completed"
    },
    "tags": []
   },
   "source": [
    "There is a severe class imbalance in this dataset. This poses some unique problems for prediction with a classifier using a regular approach\n",
    "* Most ML algorithms work well when the class distribution is fairly even. Highly skewed distribution like the one in this case can lead to misclassification of many positive cases (fraud instance) when we train a model using regular approach as there are only few examples of the minority class to learn an effective decision boundary "
   ]
  },
  {
   "cell_type": "markdown",
   "metadata": {
    "papermill": {
     "duration": 0.037447,
     "end_time": "2020-10-14T14:38:47.500678",
     "exception": false,
     "start_time": "2020-10-14T14:38:47.463231",
     "status": "completed"
    },
    "tags": []
   },
   "source": [
    "# Addressing class imbalance\n",
    "\n",
    "* There are certain techniques which can be used to overcome the issue of class imbalance\n",
    "* **Random Oversampling:** Random Oversampling involves supplementing the training data with multiple copies of some of the minority classes. Oversampling can be done more than once. Instead of duplicating every sample in the minority class, some of them may be randomly chosen with replacement. Theye are more sophisticated approaches for oversampling than just copying minority examples. SMOTE and ADASYN are two such algorithms which make use of synthetic oversampling techniques.\n",
    "* **Random Undersampling:** Random undersampling involves randomly selecting examples from the majority class and deleting them from the training dataset. In the random under-sampling, the majority class instances are discarded at random until a more balanced distribution is reached\n",
    "\n",
    "In this dataset, there are 28 anonymized and scaled features and 2 unscaled features - Time and Amount. Scale amount and drop time."
   ]
  },
  {
   "cell_type": "markdown",
   "metadata": {
    "papermill": {
     "duration": 0.036123,
     "end_time": "2020-10-14T14:38:47.572625",
     "exception": false,
     "start_time": "2020-10-14T14:38:47.536502",
     "status": "completed"
    },
    "tags": []
   },
   "source": [
    "# Metrics\n",
    "\n",
    "Accuracy is not the right metrics to evaluate how a model performs on this dataset because even if a model predicts that all transactions are normal, it will achieve 99.83% accuracy; However that is not what is expected of a model. For a given problem, it is very crucial to use the right metrics to build a reliable model which will do well on unseen data. In this scenario the model is expected to classify fradulent transactions, in case they occur. Misclassifying a fradulent transaction is much more expensive than misclassifying some legitimate transactions. In other words, recall of fradulent transactions is much more important in this task than the precision with which they are classified. ROC Area under the curve is another metrics which can be used to evaluate model's performance on imbalanced dataset."
   ]
  },
  {
   "cell_type": "code",
   "execution_count": 8,
   "metadata": {
    "execution": {
     "iopub.execute_input": "2020-10-14T14:38:47.653936Z",
     "iopub.status.busy": "2020-10-14T14:38:47.652953Z",
     "iopub.status.idle": "2020-10-14T14:38:47.792160Z",
     "shell.execute_reply": "2020-10-14T14:38:47.791355Z"
    },
    "papermill": {
     "duration": 0.183848,
     "end_time": "2020-10-14T14:38:47.792298",
     "exception": false,
     "start_time": "2020-10-14T14:38:47.608450",
     "status": "completed"
    },
    "tags": []
   },
   "outputs": [],
   "source": [
    "# Scale amount\n",
    "\n",
    "scaler = RobustScaler()\n",
    "df['scaled_amount'] = scaler.fit_transform(df.Amount.values.reshape(-1,1))\n",
    "df.drop(['Time', 'Amount'], axis=1, inplace=True)\n",
    "sa = df['scaled_amount']\n",
    "df.drop('scaled_amount', axis=1, inplace=True)\n",
    "df.insert(0, 'scaled_amount', sa)"
   ]
  },
  {
   "cell_type": "markdown",
   "metadata": {
    "papermill": {
     "duration": 0.03545,
     "end_time": "2020-10-14T14:38:47.864220",
     "exception": false,
     "start_time": "2020-10-14T14:38:47.828770",
     "status": "completed"
    },
    "tags": []
   },
   "source": [
    "# Logistic Regression"
   ]
  },
  {
   "cell_type": "code",
   "execution_count": 9,
   "metadata": {
    "execution": {
     "iopub.execute_input": "2020-10-14T14:38:47.960160Z",
     "iopub.status.busy": "2020-10-14T14:38:47.958847Z",
     "iopub.status.idle": "2020-10-14T14:38:47.962625Z",
     "shell.execute_reply": "2020-10-14T14:38:47.963232Z"
    },
    "papermill": {
     "duration": 0.061973,
     "end_time": "2020-10-14T14:38:47.963431",
     "exception": false,
     "start_time": "2020-10-14T14:38:47.901458",
     "status": "completed"
    },
    "tags": []
   },
   "outputs": [],
   "source": [
    "def kfold_scores(x, y):\n",
    "    \n",
    "    \"\"\"\n",
    "    This function will split data into 3 folds and \n",
    "    evaluates a Logistic Regression model over 4 values of 'C' parameter and returns best C\n",
    "    \n",
    "    \"\"\"\n",
    "    \n",
    "    fold = StratifiedKFold(3, shuffle=True, random_state=10)\n",
    "    \n",
    "    #C paramater range\n",
    "    c_param_range = [0.01, 0.1, 1, 10]\n",
    "    \n",
    "    results_table = pd.DataFrame(index = range(len(c_param_range)), columns = ['C_parameter', 'Mean_roc_auc'])\n",
    "    results_table['C_parameter'] = c_param_range\n",
    "    j = 0\n",
    "    for c in c_param_range:\n",
    "        print('-'*30)\n",
    "        print(f'C parameter: {c}')\n",
    "        print('-'*30)\n",
    "        print('')\n",
    "        \n",
    "        recall_scores = []\n",
    "        roc_scores = []\n",
    "        i = 1\n",
    "        for train_indices, test_indices in fold.split(x, y):\n",
    "            \n",
    "            lr = LogisticRegression(C=c, solver='liblinear', penalty = 'l1')            \n",
    "            lr.fit(x.iloc[train_indices], y.iloc[train_indices])            \n",
    "            y_pred = lr.predict(x.iloc[test_indices])\n",
    "            \n",
    "            recall_acc = recall_score(y.iloc[test_indices], y_pred)            \n",
    "            recall_scores.append(recall_acc)  \n",
    "            \n",
    "            roc_scr = roc_auc_score(y.iloc[test_indices], y_pred)\n",
    "            roc_scores.append(roc_scr)\n",
    "            \n",
    "            #print(f'Iteration:{i}', f'Recall score: {recall_acc:.4f}')\n",
    "            i = i+1    \n",
    "        print('Mean recall score ', round(np.mean(recall_scores),4))  \n",
    "        print('Mean roc auc', round(np.mean(roc_scores),4))\n",
    "        print('')\n",
    "        results_table['Mean_roc_auc'].iloc[j] = round(np.mean(roc_scores),4)\n",
    "        j += 1\n",
    "    print('='*30)\n",
    "    best_c = results_table['C_parameter'].iloc[results_table['Mean_roc_auc'].astype(float).idxmax()]\n",
    "    print(f'Best model to choose from cross validation is with C-parameter:{best_c}')\n",
    "    print('='*30)\n",
    "    return best_c"
   ]
  },
  {
   "cell_type": "code",
   "execution_count": 10,
   "metadata": {
    "execution": {
     "iopub.execute_input": "2020-10-14T14:38:48.048529Z",
     "iopub.status.busy": "2020-10-14T14:38:48.047607Z",
     "iopub.status.idle": "2020-10-14T14:41:51.144832Z",
     "shell.execute_reply": "2020-10-14T14:41:51.145727Z"
    },
    "papermill": {
     "duration": 183.145185,
     "end_time": "2020-10-14T14:41:51.145964",
     "exception": false,
     "start_time": "2020-10-14T14:38:48.000779",
     "status": "completed"
    },
    "tags": []
   },
   "outputs": [
    {
     "name": "stdout",
     "output_type": "stream",
     "text": [
      "size of original data 284807\n",
      "No. of train examples in original data 199364\n",
      "No. of test examples in original data 85443\n",
      "------------------------------\n",
      "C parameter: 0.01\n",
      "------------------------------\n",
      "\n",
      "Mean recall score  0.5609\n",
      "Mean roc auc 0.7804\n",
      "\n",
      "------------------------------\n",
      "C parameter: 0.1\n",
      "------------------------------\n",
      "\n",
      "Mean recall score  0.6249\n",
      "Mean roc auc 0.8124\n",
      "\n",
      "------------------------------\n",
      "C parameter: 1\n",
      "------------------------------\n",
      "\n",
      "Mean recall score  0.6483\n",
      "Mean roc auc 0.8241\n",
      "\n",
      "------------------------------\n",
      "C parameter: 10\n",
      "------------------------------\n",
      "\n",
      "Mean recall score  0.6512\n",
      "Mean roc auc 0.8255\n",
      "\n",
      "==============================\n",
      "Best model to choose from cross validation is with C-parameter:10.0\n",
      "==============================\n"
     ]
    }
   ],
   "source": [
    "X = df.drop('Class', axis=1)\n",
    "y = df['Class']\n",
    "\n",
    "\n",
    "X_train, X_test, y_train, y_test = train_test_split(X, y, test_size=0.3, stratify=y, random_state=42)\n",
    "\n",
    "print(f'size of original data {len(df)}')\n",
    "print(f'No. of train examples in original data {len(X_train)}')\n",
    "print(f'No. of test examples in original data {len(X_test)}')\n",
    "\n",
    "best_c_orig_data = kfold_scores(X_train, y_train)"
   ]
  },
  {
   "cell_type": "markdown",
   "metadata": {
    "papermill": {
     "duration": 0.039597,
     "end_time": "2020-10-14T14:41:51.226980",
     "exception": false,
     "start_time": "2020-10-14T14:41:51.187383",
     "status": "completed"
    },
    "tags": []
   },
   "source": [
    "**Plot Confusion matrix**"
   ]
  },
  {
   "cell_type": "code",
   "execution_count": 11,
   "metadata": {
    "execution": {
     "iopub.execute_input": "2020-10-14T14:41:51.321360Z",
     "iopub.status.busy": "2020-10-14T14:41:51.314167Z",
     "iopub.status.idle": "2020-10-14T14:41:51.325187Z",
     "shell.execute_reply": "2020-10-14T14:41:51.324504Z"
    },
    "papermill": {
     "duration": 0.059266,
     "end_time": "2020-10-14T14:41:51.325330",
     "exception": false,
     "start_time": "2020-10-14T14:41:51.266064",
     "status": "completed"
    },
    "tags": []
   },
   "outputs": [],
   "source": [
    "def plot_confusion_matrix(cm, classes,\n",
    "                          normalize=False,\n",
    "                          title='Confusion matrix',\n",
    "                          cmap=plt.cm.Reds):\n",
    "    \"\"\"\n",
    "    This function prints and plots the confusion matrix.\n",
    "    Normalization can be applied by setting `normalize=True`.\n",
    "    \"\"\"\n",
    "    plt.figure(figsize=(8,5))\n",
    "    plt.imshow(cm, interpolation='nearest', cmap=cmap)\n",
    "    plt.title(title)\n",
    "    plt.colorbar()\n",
    "    tick_marks = np.arange(len(classes))\n",
    "    plt.xticks(tick_marks, classes, rotation=0)\n",
    "    plt.yticks(tick_marks, classes)\n",
    "\n",
    "    if normalize:\n",
    "        cm = cm.astype('float') / cm.sum(axis=1)[:, np.newaxis]\n",
    "        #print(\"Normalized confusion matrix\")\n",
    "    else:\n",
    "        1#print('Confusion matrix, without normalization')\n",
    "\n",
    "    #print(cm)\n",
    "\n",
    "    thresh = cm.max() / 2.\n",
    "    for i, j in itertools.product(range(cm.shape[0]), range(cm.shape[1])):\n",
    "        plt.text(j, i, cm[i, j],\n",
    "                 horizontalalignment=\"center\",\n",
    "                 color=\"white\" if cm[i, j] > thresh else \"black\")\n",
    "\n",
    "    plt.tight_layout()\n",
    "    plt.ylabel('True label')\n",
    "    plt.xlabel('Predicted label')"
   ]
  },
  {
   "cell_type": "code",
   "execution_count": 12,
   "metadata": {
    "execution": {
     "iopub.execute_input": "2020-10-14T14:41:51.418163Z",
     "iopub.status.busy": "2020-10-14T14:41:51.416570Z",
     "iopub.status.idle": "2020-10-14T14:42:14.963811Z",
     "shell.execute_reply": "2020-10-14T14:42:14.963122Z"
    },
    "papermill": {
     "duration": 23.599058,
     "end_time": "2020-10-14T14:42:14.963944",
     "exception": false,
     "start_time": "2020-10-14T14:41:51.364886",
     "status": "completed"
    },
    "tags": []
   },
   "outputs": [
    {
     "name": "stdout",
     "output_type": "stream",
     "text": [
      "Recall metric for test set: 0.6216\n",
      "ROC AUC for test set: 0.8107\n"
     ]
    },
    {
     "data": {
      "text/plain": [
       "<Figure size 432x288 with 0 Axes>"
      ]
     },
     "metadata": {},
     "output_type": "display_data"
    },
    {
     "data": {
      "image/png": "[encoded data removed]",
      "text/plain": [
       "<Figure size 576x360 with 2 Axes>"
      ]
     },
     "metadata": {
      "needs_background": "light"
     },
     "output_type": "display_data"
    }
   ],
   "source": [
    "# Use best_c on all train examples and predict on test examples\n",
    "\n",
    "lr = LogisticRegression(C = best_c_orig_data, penalty = 'l1', solver='liblinear')\n",
    "lr.fit(X_train,y_train)\n",
    "y_pred = lr.predict(X_test)\n",
    "\n",
    "# Compute confusion matrix\n",
    "cnf_matrix = confusion_matrix(y_test,y_pred)\n",
    "np.set_printoptions(precision=2)\n",
    "\n",
    "print(f\"Recall metric for test set: {(cnf_matrix[1,1]/(cnf_matrix[1,0]+cnf_matrix[1,1])):.4f}\")\n",
    "print(f\"ROC AUC for test set: {(roc_auc_score(y_test, y_pred)):.4f}\")\n",
    "\n",
    "# Plot non-normalized confusion matrix\n",
    "class_names = [0,1]\n",
    "plt.figure()\n",
    "plot_confusion_matrix(cnf_matrix\n",
    "                      , classes=class_names\n",
    "                      , title='Confusion matrix')\n",
    "plt.show()"
   ]
  },
  {
   "cell_type": "markdown",
   "metadata": {
    "papermill": {
     "duration": 0.043997,
     "end_time": "2020-10-14T14:42:15.050584",
     "exception": false,
     "start_time": "2020-10-14T14:42:15.006587",
     "status": "completed"
    },
    "tags": []
   },
   "source": [
    "This simple model trained on complete dataset has done a poor job. It has misclassified 56 out of 148 (37.84%) class-1 examples (fraud cases). Although it has not done a pathetic job yet it does not have acceptable level of recall. "
   ]
  },
  {
   "cell_type": "markdown",
   "metadata": {
    "papermill": {
     "duration": 0.04322,
     "end_time": "2020-10-14T14:42:15.137587",
     "exception": false,
     "start_time": "2020-10-14T14:42:15.094367",
     "status": "completed"
    },
    "tags": []
   },
   "source": [
    "# Random Forest Classifier"
   ]
  },
  {
   "cell_type": "code",
   "execution_count": 13,
   "metadata": {
    "execution": {
     "iopub.execute_input": "2020-10-14T14:42:15.237427Z",
     "iopub.status.busy": "2020-10-14T14:42:15.234217Z",
     "iopub.status.idle": "2020-10-14T14:46:26.725742Z",
     "shell.execute_reply": "2020-10-14T14:46:26.725086Z"
    },
    "papermill": {
     "duration": 251.547376,
     "end_time": "2020-10-14T14:46:26.725918",
     "exception": false,
     "start_time": "2020-10-14T14:42:15.178542",
     "status": "completed"
    },
    "tags": []
   },
   "outputs": [
    {
     "name": "stdout",
     "output_type": "stream",
     "text": [
      "Recall for test set: 0.7703\n",
      "ROC AUC for test set: 0.8851\n"
     ]
    },
    {
     "data": {
      "text/plain": [
       "<Figure size 432x288 with 0 Axes>"
      ]
     },
     "metadata": {},
     "output_type": "display_data"
    },
    {
     "data": {
      "image/png": "[encoded data removed]",
      "text/plain": [
       "<Figure size 576x360 with 2 Axes>"
      ]
     },
     "metadata": {
      "needs_background": "light"
     },
     "output_type": "display_data"
    }
   ],
   "source": [
    "# fit random forest classifier with default params\n",
    "forest = RandomForestClassifier()\n",
    "forest.fit(X_train, y_train)\n",
    "y_pred = forest.predict(X_test)\n",
    "\n",
    "# Compute confusion matrix\n",
    "cnf_matrix = confusion_matrix(y_test,y_pred)\n",
    "np.set_printoptions(precision=2)\n",
    "\n",
    "print(f\"Recall for test set: {(recall_score(y_test, y_pred)):.4f}\")\n",
    "print(f\"ROC AUC for test set: {(roc_auc_score(y_test, y_pred)):.4f}\")\n",
    "\n",
    "# Plot non-normalized confusion matrix\n",
    "class_names = [0,1]\n",
    "plt.figure()\n",
    "plot_confusion_matrix(cnf_matrix\n",
    "                      , classes=class_names\n",
    "                      , title='Confusion matrix')\n",
    "plt.show()"
   ]
  },
  {
   "cell_type": "markdown",
   "metadata": {
    "papermill": {
     "duration": 0.043179,
     "end_time": "2020-10-14T14:46:26.813574",
     "exception": false,
     "start_time": "2020-10-14T14:46:26.770395",
     "status": "completed"
    },
    "tags": []
   },
   "source": [
    "With Random Forest Classifier, AUC went up marginally; I will use Random Forest Classifier for the remainder of this notebook."
   ]
  },
  {
   "cell_type": "markdown",
   "metadata": {
    "papermill": {
     "duration": 0.043964,
     "end_time": "2020-10-14T14:46:26.900298",
     "exception": false,
     "start_time": "2020-10-14T14:46:26.856334",
     "status": "completed"
    },
    "tags": []
   },
   "source": [
    "# Undersample data"
   ]
  },
  {
   "cell_type": "code",
   "execution_count": 14,
   "metadata": {
    "execution": {
     "iopub.execute_input": "2020-10-14T14:46:26.998183Z",
     "iopub.status.busy": "2020-10-14T14:46:26.997298Z",
     "iopub.status.idle": "2020-10-14T14:46:36.480222Z",
     "shell.execute_reply": "2020-10-14T14:46:36.479394Z"
    },
    "papermill": {
     "duration": 9.535962,
     "end_time": "2020-10-14T14:46:36.480354",
     "exception": false,
     "start_time": "2020-10-14T14:46:26.944392",
     "status": "completed"
    },
    "tags": []
   },
   "outputs": [
    {
     "name": "stdout",
     "output_type": "stream",
     "text": [
      "Sampling strategy: 0.05\n",
      "=========================\n",
      "No. of normal cases: 6880\n",
      "No. of fraud cases: 344\n",
      "Recall: 0.8311\n",
      "ROC AUC: 0.9151\n",
      "\n",
      "Sampling strategy: 0.1\n",
      "=========================\n",
      "No. of normal cases: 3440\n",
      "No. of fraud cases: 344\n",
      "Recall: 0.8311\n",
      "ROC AUC: 0.9148\n",
      "\n",
      "Sampling strategy: 1\n",
      "=========================\n",
      "No. of normal cases: 344\n",
      "No. of fraud cases: 344\n",
      "Recall: 0.8581\n",
      "ROC AUC: 0.9161\n",
      "\n"
     ]
    }
   ],
   "source": [
    "# list of sampling strategies to use\n",
    "sampling_strategies = [0.05, 0.1, 1]\n",
    "\n",
    "for sampling_strategy in sampling_strategies:\n",
    "    us = RandomUnderSampler(sampling_strategy=sampling_strategy)\n",
    "    X_us, y_us = us.fit_resample(X_train, y_train)\n",
    "    print(f'Sampling strategy: {sampling_strategy}')\n",
    "    print('='*25)\n",
    "    print(f\"No. of normal cases: {len(y_us[y_us==0])}\")\n",
    "    print(f\"No. of fraud cases: {len(y_us[y_us==1])}\")    \n",
    "    # fit decision tree classifier with default params\n",
    "    forest.fit(X_us, y_us) \n",
    "    y_pred = forest.predict(X_test)\n",
    "    print(f\"Recall: {(recall_score(y_test, y_pred)):.4f}\")\n",
    "    print(f\"ROC AUC: {(roc_auc_score(y_test, y_pred)):.4f}\")\n",
    "    print('')"
   ]
  },
  {
   "cell_type": "code",
   "execution_count": 15,
   "metadata": {
    "execution": {
     "iopub.execute_input": "2020-10-14T14:46:36.581940Z",
     "iopub.status.busy": "2020-10-14T14:46:36.581058Z",
     "iopub.status.idle": "2020-10-14T14:46:37.002597Z",
     "shell.execute_reply": "2020-10-14T14:46:37.001606Z"
    },
    "papermill": {
     "duration": 0.476811,
     "end_time": "2020-10-14T14:46:37.002780",
     "exception": false,
     "start_time": "2020-10-14T14:46:36.525969",
     "status": "completed"
    },
    "tags": []
   },
   "outputs": [
    {
     "name": "stdout",
     "output_type": "stream",
     "text": [
      "Recall for test set: 0.8581\n",
      "ROC AUC for test set: 0.9161\n"
     ]
    },
    {
     "data": {
      "text/plain": [
       "<Figure size 432x288 with 0 Axes>"
      ]
     },
     "metadata": {},
     "output_type": "display_data"
    },
    {
     "data": {
      "image/png": "[encoded data removed]",
      "text/plain": [
       "<Figure size 576x360 with 2 Axes>"
      ]
     },
     "metadata": {
      "needs_background": "light"
     },
     "output_type": "display_data"
    }
   ],
   "source": [
    "# Compute confusion matrix\n",
    "cnf_matrix = confusion_matrix(y_test,y_pred)\n",
    "np.set_printoptions(precision=2)\n",
    "\n",
    "print(f\"Recall for test set: {(recall_score(y_test, y_pred)):.4f}\")\n",
    "print(f\"ROC AUC for test set: {(roc_auc_score(y_test, y_pred)):.4f}\")\n",
    "\n",
    "# Plot non-normalized confusion matrix\n",
    "class_names = [0,1]\n",
    "plt.figure()\n",
    "plot_confusion_matrix(cnf_matrix\n",
    "                      , classes=class_names\n",
    "                      , title='Confusion matrix')\n",
    "plt.show()"
   ]
  },
  {
   "cell_type": "markdown",
   "metadata": {
    "papermill": {
     "duration": 0.051666,
     "end_time": "2020-10-14T14:46:37.107371",
     "exception": false,
     "start_time": "2020-10-14T14:46:37.055705",
     "status": "completed"
    },
    "tags": []
   },
   "source": [
    "Undersampling has clearly helped. The model could learn a better decision boundary with undersample data than original data. AUC improved to ~0.92"
   ]
  },
  {
   "cell_type": "markdown",
   "metadata": {
    "papermill": {
     "duration": 0.048671,
     "end_time": "2020-10-14T14:46:37.206545",
     "exception": false,
     "start_time": "2020-10-14T14:46:37.157874",
     "status": "completed"
    },
    "tags": []
   },
   "source": [
    "**Correlation between variables in original data and undersample data**"
   ]
  },
  {
   "cell_type": "code",
   "execution_count": 16,
   "metadata": {
    "execution": {
     "iopub.execute_input": "2020-10-14T14:46:37.318851Z",
     "iopub.status.busy": "2020-10-14T14:46:37.311909Z",
     "iopub.status.idle": "2020-10-14T14:46:39.371044Z",
     "shell.execute_reply": "2020-10-14T14:46:39.370261Z"
    },
    "papermill": {
     "duration": 2.116008,
     "end_time": "2020-10-14T14:46:39.371173",
     "exception": false,
     "start_time": "2020-10-14T14:46:37.255165",
     "status": "completed"
    },
    "tags": []
   },
   "outputs": [
    {
     "data": {
      "image/png": "[encoded data removed]",
      "text/plain": [
       "<Figure size 1584x576 with 4 Axes>"
      ]
     },
     "metadata": {
      "needs_background": "light"
     },
     "output_type": "display_data"
    }
   ],
   "source": [
    "fig, ax = plt.subplots(1, 2, figsize=(22,8))\n",
    "ax0 = plt.subplot(121)\n",
    "ax0.set_title('Original data', fontsize=15)\n",
    "ax0 = sns.heatmap(df.corr())\n",
    "ax1 = plt.subplot(122)\n",
    "ax1.set_title('Undersample data', fontsize=15)\n",
    "ax1 = sns.heatmap((X_us.join(y_us)).corr())"
   ]
  },
  {
   "cell_type": "markdown",
   "metadata": {
    "papermill": {
     "duration": 0.04912,
     "end_time": "2020-10-14T14:46:39.469920",
     "exception": false,
     "start_time": "2020-10-14T14:46:39.420800",
     "status": "completed"
    },
    "tags": []
   },
   "source": [
    "With undersampled data, we can find more apparent correations between some features such as V1,V5,V6,V9,V16,V18 and the target as compared to original data. Earlier these correlations were not prominent due to the nature of the data. So Undersampling can potentially help in understanding some correlations better. Sometimes this will help the model to learn useful patterns which can lead to more accurate predictions. "
   ]
  },
  {
   "cell_type": "markdown",
   "metadata": {
    "papermill": {
     "duration": 0.04926,
     "end_time": "2020-10-14T14:46:39.568030",
     "exception": false,
     "start_time": "2020-10-14T14:46:39.518770",
     "status": "completed"
    },
    "tags": []
   },
   "source": [
    "# Oversample data with SMOTE\n",
    "\n",
    "SMOTE stands for Synthetic Minority Oversampling Technique. This is a statistical technique for increasing the number of cases in a imbalanced dataset to make it balanced. SMOTE works by works by generating new instances from existing minority cases. The new instances are not just copies of existing minority cases; instead, the algorithm takes samples of the feature space for each target class and its nearest neighbors, and generates new examples that combine features of the target case with features of its neighbors. This approach increases the features available to each class and makes the samples more general."
   ]
  },
  {
   "cell_type": "code",
   "execution_count": 17,
   "metadata": {
    "execution": {
     "iopub.execute_input": "2020-10-14T14:46:39.677981Z",
     "iopub.status.busy": "2020-10-14T14:46:39.676856Z",
     "iopub.status.idle": "2020-10-14T14:54:58.878350Z",
     "shell.execute_reply": "2020-10-14T14:54:58.879544Z"
    },
    "papermill": {
     "duration": 499.262417,
     "end_time": "2020-10-14T14:54:58.879852",
     "exception": false,
     "start_time": "2020-10-14T14:46:39.617435",
     "status": "completed"
    },
    "tags": []
   },
   "outputs": [
    {
     "name": "stdout",
     "output_type": "stream",
     "text": [
      "Sampling strategy: 0.1\n",
      "=========================\n",
      "No. of normal cases: 199020\n",
      "No. of fraud cases: 19902\n",
      "Recall: 0.7905\n",
      "ROC AUC: 0.8952\n",
      "\n",
      "Sampling strategy: 0.5\n",
      "=========================\n",
      "No. of normal cases: 199020\n",
      "No. of fraud cases: 99510\n",
      "Recall: 0.7905\n",
      "ROC AUC: 0.8952\n",
      "\n"
     ]
    }
   ],
   "source": [
    "sampling_strategies = [0.1, 0.5]\n",
    "for sampling_strategy in sampling_strategies:\n",
    "    os = SMOTE(sampling_strategy=sampling_strategy)\n",
    "    X_os, y_os = os.fit_resample(X_train, y_train)\n",
    "    print(f'Sampling strategy: {sampling_strategy}')\n",
    "    print('='*25)\n",
    "    print(f\"No. of normal cases: {len(y_os[y_os==0])}\")\n",
    "    print(f\"No. of fraud cases: {len(y_os[y_os==1])}\")\n",
    "    # fit decision tree classifier with default params\n",
    "    forest.fit(X_os, y_os)\n",
    "    y_pred = forest.predict(X_test)\n",
    "    print(f\"Recall: {(recall_score(y_test, y_pred)):.4f}\")\n",
    "    print(f\"ROC AUC: {(roc_auc_score(y_test, y_pred)):.4f}\")\n",
    "    print('')"
   ]
  },
  {
   "cell_type": "code",
   "execution_count": 18,
   "metadata": {
    "execution": {
     "iopub.execute_input": "2020-10-14T14:54:58.995396Z",
     "iopub.status.busy": "2020-10-14T14:54:58.994434Z",
     "iopub.status.idle": "2020-10-14T14:54:59.405501Z",
     "shell.execute_reply": "2020-10-14T14:54:59.404886Z"
    },
    "papermill": {
     "duration": 0.469829,
     "end_time": "2020-10-14T14:54:59.405678",
     "exception": false,
     "start_time": "2020-10-14T14:54:58.935849",
     "status": "completed"
    },
    "tags": []
   },
   "outputs": [
    {
     "name": "stdout",
     "output_type": "stream",
     "text": [
      "Recall for test set: 0.7905\n",
      "ROC AUC for test set: 0.8952\n"
     ]
    },
    {
     "data": {
      "text/plain": [
       "<Figure size 432x288 with 0 Axes>"
      ]
     },
     "metadata": {},
     "output_type": "display_data"
    },
    {
     "data": {
      "image/png": "[encoded data removed]",
      "text/plain": [
       "<Figure size 576x360 with 2 Axes>"
      ]
     },
     "metadata": {
      "needs_background": "light"
     },
     "output_type": "display_data"
    }
   ],
   "source": [
    "# Compute confusion matrix\n",
    "cnf_matrix = confusion_matrix(y_test,y_pred)\n",
    "np.set_printoptions(precision=2)\n",
    "\n",
    "print(f\"Recall for test set: {(recall_score(y_test, y_pred)):.4f}\")\n",
    "print(f\"ROC AUC for test set: {(roc_auc_score(y_test, y_pred)):.4f}\")\n",
    "\n",
    "# Plot non-normalized confusion matrix\n",
    "class_names = [0,1]\n",
    "plt.figure()\n",
    "plot_confusion_matrix(cnf_matrix\n",
    "                      , classes=class_names\n",
    "                      , title='Confusion matrix')\n",
    "plt.show()"
   ]
  },
  {
   "cell_type": "markdown",
   "metadata": {
    "papermill": {
     "duration": 0.052868,
     "end_time": "2020-10-14T14:54:59.513456",
     "exception": false,
     "start_time": "2020-10-14T14:54:59.460588",
     "status": "completed"
    },
    "tags": []
   },
   "source": [
    "Notice how undersampling and oversampling led to an improvement in model's performance on the test set. This is more true in the case of undersampling than oversampling. With oversampling there was only a small improvement."
   ]
  },
  {
   "cell_type": "markdown",
   "metadata": {
    "papermill": {
     "duration": 0.051683,
     "end_time": "2020-10-14T14:54:59.618525",
     "exception": false,
     "start_time": "2020-10-14T14:54:59.566842",
     "status": "completed"
    },
    "tags": []
   },
   "source": [
    "# Undersampling + Oversampling \n",
    "\n",
    "The authors of SMOTE paper suggetsed combining SMOTE with undersampling for better results than what we get from using only SMOTE. Let's apply this suggestion. So far we have applied overampling and undersampling individually. In the next section, let's apply them together. specifically, I will combine SMOTE with Random undersampling."
   ]
  },
  {
   "cell_type": "code",
   "execution_count": 19,
   "metadata": {
    "execution": {
     "iopub.execute_input": "2020-10-14T14:54:59.735248Z",
     "iopub.status.busy": "2020-10-14T14:54:59.732232Z",
     "iopub.status.idle": "2020-10-14T14:55:01.550912Z",
     "shell.execute_reply": "2020-10-14T14:55:01.550187Z"
    },
    "papermill": {
     "duration": 1.879981,
     "end_time": "2020-10-14T14:55:01.551065",
     "exception": false,
     "start_time": "2020-10-14T14:54:59.671084",
     "status": "completed"
    },
    "tags": []
   },
   "outputs": [
    {
     "name": "stdout",
     "output_type": "stream",
     "text": [
      "Recall for test set: 0.8649\n",
      "ROC AUC for test set: 0.9270\n"
     ]
    },
    {
     "data": {
      "text/plain": [
       "<Figure size 432x288 with 0 Axes>"
      ]
     },
     "metadata": {},
     "output_type": "display_data"
    },
    {
     "data": {
      "image/png": "[encoded data removed]",
      "text/plain": [
       "<Figure size 576x360 with 2 Axes>"
      ]
     },
     "metadata": {
      "needs_background": "light"
     },
     "output_type": "display_data"
    }
   ],
   "source": [
    "from sklearn.ensemble import RandomForestClassifier\n",
    "\n",
    "os = SMOTE(sampling_strategy=1)\n",
    "us = RandomUnderSampler(sampling_strategy=0.5) \n",
    "# undersample train data\n",
    "X_tr_1, y_tr_1 = us.fit_resample(X_train, y_train)\n",
    "# oversample resampled data\n",
    "X_tr_2, y_tr_2 = os.fit_resample(X_tr_1, y_tr_1)\n",
    "forest = RandomForestClassifier()\n",
    "forest.fit(X_tr_2,y_tr_2)\n",
    "y_pred = forest.predict(X_test)\n",
    "\n",
    "# Compute confusion matrix\n",
    "cnf_matrix = confusion_matrix(y_test,y_pred)\n",
    "np.set_printoptions(precision=2)\n",
    "\n",
    "print(f\"Recall for test set: {(recall_score(y_test, y_pred)):.4f}\")\n",
    "print(f\"ROC AUC for test set: {(roc_auc_score(y_test, y_pred)):.4f}\")\n",
    "\n",
    "# Plot non-normalized confusion matrix\n",
    "class_names = [0,1]\n",
    "plt.figure()\n",
    "plot_confusion_matrix(cnf_matrix\n",
    "                      , classes=class_names\n",
    "                      , title='Confusion matrix')\n",
    "plt.show()"
   ]
  },
  {
   "cell_type": "markdown",
   "metadata": {
    "papermill": {
     "duration": 0.055323,
     "end_time": "2020-10-14T14:55:01.662224",
     "exception": false,
     "start_time": "2020-10-14T14:55:01.606901",
     "status": "completed"
    },
    "tags": []
   },
   "source": [
    "# Receiver Operating Characteristic for best model"
   ]
  },
  {
   "cell_type": "code",
   "execution_count": 20,
   "metadata": {
    "execution": {
     "iopub.execute_input": "2020-10-14T14:55:01.791045Z",
     "iopub.status.busy": "2020-10-14T14:55:01.790089Z",
     "iopub.status.idle": "2020-10-14T14:55:01.988152Z",
     "shell.execute_reply": "2020-10-14T14:55:01.988771Z"
    },
    "papermill": {
     "duration": 0.268204,
     "end_time": "2020-10-14T14:55:01.988957",
     "exception": false,
     "start_time": "2020-10-14T14:55:01.720753",
     "status": "completed"
    },
    "tags": []
   },
   "outputs": [
    {
     "data": {
      "image/png": "[encoded data removed]",
      "text/plain": [
       "<Figure size 576x432 with 1 Axes>"
      ]
     },
     "metadata": {
      "needs_background": "light"
     },
     "output_type": "display_data"
    }
   ],
   "source": [
    "fpr, tpr, thresholds = roc_curve(y_test,y_pred)\n",
    "roc_auc = auc(fpr,tpr)\n",
    "\n",
    "plt.figure(figsize=(8,6))\n",
    "plt.title('Receiver Operating Characteristic')\n",
    "plt.plot(fpr, tpr, 'b',label='AUC = %0.4f'% roc_auc)\n",
    "plt.plot([0,1],[0,1],'r--')\n",
    "plt.xlim([-0.04,1.0])\n",
    "plt.ylim([-0.04,1.01])\n",
    "plt.ylabel('True Positive Rate')\n",
    "plt.xlabel('False Positive Rate')\n",
    "plt.legend(loc='lower right')\n",
    "plt.show()"
   ]
  },
  {
   "cell_type": "markdown",
   "metadata": {
    "papermill": {
     "duration": 0.058297,
     "end_time": "2020-10-14T14:55:02.112615",
     "exception": false,
     "start_time": "2020-10-14T14:55:02.054318",
     "status": "completed"
    },
    "tags": []
   },
   "source": [
    "# Final thoughts & Conclusion\n",
    "\n",
    "* In this notebook, I have applied undersample and oversample techniques on imbalanced data and saw their impact on model training. Combination of SMOTE and RandomUnderSampler has given only a meagre improvement over undersample in this case. However towards the end of this notebook, I have been able to build a more powerful and reliable model than the first model.\n",
    "* I focused more on the various approaches to the problem and their outcome and focused less on hyper parameter tuning and getting the best possible ROC score with the model architecture.\n",
    "* However, there is ample room to work on fine tuning the parameters by manually tweaking or implementing grid search CV on Random Forest Classifier parameters. The sampling_strategies for undersample and oversample can also be modified.\n",
    "* I will conclude by saying that undersample and oversample are very handy tools when dealing with class imbalance and the availability of libraries such as imblearn make the task of undersampling/oversampling quite simple. "
   ]
  }
 ],
 "metadata": {
  "kernelspec": {
   "display_name": "Python 3",
   "language": "python",
   "name": "python3"
  },
  "language_info": {
   "codemirror_mode": {
    "name": "ipython",
    "version": 3
   },
   "file_extension": ".py",
   "mimetype": "text/x-python",
   "name": "python",
   "nbconvert_exporter": "python",
   "pygments_lexer": "ipython3",
   "version": "3.7.6"
  },
  "papermill": {
   "duration": 991.001518,
   "end_time": "2020-10-14T14:55:02.278020",
   "environment_variables": {},
   "exception": null,
   "input_path": "__notebook__.ipynb",
   "output_path": "__notebook__.ipynb",
   "parameters": {},
   "start_time": "2020-10-14T14:38:31.276502",
   "version": "2.1.0"
  }
 },
 "nbformat": 4,
 "nbformat_minor": 4
}
